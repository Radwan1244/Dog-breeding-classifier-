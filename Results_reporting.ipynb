{
  "nbformat": 4,
  "nbformat_minor": 0,
  "metadata": {
    "colab": {
      "provenance": [],
      "authorship_tag": "ABX9TyMHxhAL1uWLrkxYN9DK2XYs",
      "include_colab_link": true
    },
    "kernelspec": {
      "name": "python3",
      "display_name": "Python 3"
    },
    "language_info": {
      "name": "python"
    }
  },
  "cells": [
    {
      "cell_type": "markdown",
      "metadata": {
        "id": "view-in-github",
        "colab_type": "text"
      },
      "source": [
        "<a href=\"https://colab.research.google.com/github/Radwan1244/Dog-breeding-classifier-/blob/main/Results_reporting.ipynb\" target=\"_parent\"><img src=\"https://colab.research.google.com/assets/colab-badge.svg\" alt=\"Open In Colab\"/></a>"
      ]
    },
    {
      "cell_type": "code",
      "execution_count": null,
      "metadata": {
        "id": "TF-V-P9g_5sS"
      },
      "outputs": [],
      "source": [
        "def print_results(dog_labels_results):\n",
        "    \"\"\"\n",
        "    Print comprehensive results of image classification\n",
        "\n",
        "    Parameters:\n",
        "     dog_labels_results - Dictionary with classification results\n",
        "    \"\"\"\n",
        "    # Counters for various metrics\n",
        "    n_correct_dogs = 0\n",
        "    n_correct_notdogs = 0\n",
        "    n_correct_breed = 0\n",
        "\n",
        "    # Total counts\n",
        "    n_images = len(dog_labels_results)\n",
        "    n_pet_dogs = 0\n",
        "    n_classifier_dogs = 0\n",
        "\n",
        "    # Iterate through results\n",
        "    for key, value in dog_labels_results.items():\n",
        "        pet_label, classifier_label, match_flag, pet_dog_flag, classifier_dog_flag = value\n",
        "\n",
        "        # Count pet dogs\n",
        "        if pet_dog_flag:\n",
        "            n_pet_dogs += 1\n",
        "\n",
        "        # Count classifier dogs\n",
        "        if classifier_dog_flag:\n",
        "            n_classifier_dogs += 1\n",
        "\n",
        "        # Correct dog classifications\n",
        "        if pet_dog_flag and classifier_dog_flag:\n",
        "            n_correct_dogs += 1\n",
        "\n",
        "        # Correct non-dog classifications\n",
        "        if not pet_dog_flag and not classifier_dog_flag:\n",
        "            n_correct_notdogs += 1\n",
        "\n",
        "        # Correct breed classifications\n",
        "        if match_flag and pet_dog_flag:\n",
        "            n_correct_breed += 1\n",
        "\n",
        "    # Calculate percentages\n",
        "    pct_correct_dogs = n_correct_dogs / n_pet_dogs * 100 if n_pet_dogs > 0 else 0\n",
        "    pct_correct_notdogs = n_correct_notdogs / (n_images - n_pet_dogs) * 100 if n_images > n_pet_dogs else 0\n",
        "    pct_correct_breed = n_correct_breed / n_pet_dogs * 100 if n_pet_dogs > 0 else 0\n",
        "\n",
        "    # Print results\n",
        "    print(\"\\n******** Results Statistics ********\")\n",
        "    print(f\"Total Images: {n_images}\")\n",
        "    print(f\"Number of Dogs: {n_pet_dogs}\")\n",
        "    print(f\"Number of Not-Dogs: {n_images - n_pet_dogs}\")\n",
        "    print(f\"\\nClassifier Identified Dogs: {n_classifier_dogs}\")\n",
        "\n",
        "    print(\"\\n*** Performance Metrics ***\")\n",
        "    print(f\"% Correct Dogs Identified: {pct_correct_dogs:.2f}%\")\n",
        "    print(f\"% Correct Not-Dogs Identified: {pct_correct_notdogs:.2f}%\")\n",
        "    print(f\"% Correct Dog Breeds Identified: {pct_correct_breed:.2f}%\")"
      ]
    }
  ]
}