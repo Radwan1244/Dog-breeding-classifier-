{
  "nbformat": 4,
  "nbformat_minor": 0,
  "metadata": {
    "colab": {
      "provenance": [],
      "authorship_tag": "ABX9TyNOfdtT/VGDXJ/rZj0uw7GG",
      "include_colab_link": true
    },
    "kernelspec": {
      "name": "python3",
      "display_name": "Python 3"
    },
    "language_info": {
      "name": "python"
    }
  },
  "cells": [
    {
      "cell_type": "markdown",
      "metadata": {
        "id": "view-in-github",
        "colab_type": "text"
      },
      "source": [
        "<a href=\"https://colab.research.google.com/github/Radwan1244/Dog-breeding-classifier-/blob/main/Test_classifier.ipynb\" target=\"_parent\"><img src=\"https://colab.research.google.com/assets/colab-badge.svg\" alt=\"Open In Colab\"/></a>"
      ]
    },
    {
      "cell_type": "code",
      "execution_count": null,
      "metadata": {
        "id": "ZqbyNvPVCAjV"
      },
      "outputs": [],
      "source": [
        "from classifier import classifier\n",
        "test_image = \"pet_images/Collie_03797.jpg\"\n",
        "model = \"vgg\"\n",
        "image_classification = classifier(test_image, model)\n",
        "# Print the result of the classification\n",
        "print(\"\\nResults from test_classifier.py\")\n",
        "print(\"Image:\", test_image)\n",
        "print(\"Using model:\", model)\n",
        "print(\"Classified as:\", image_classification)\n"
      ]
    }
  ]
}