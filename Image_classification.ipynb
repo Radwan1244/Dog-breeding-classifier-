{
  "nbformat": 4,
  "nbformat_minor": 0,
  "metadata": {
    "colab": {
      "provenance": [],
      "authorship_tag": "ABX9TyP3Pcg432XhP10tKx1g/asG",
      "include_colab_link": true
    },
    "kernelspec": {
      "name": "python3",
      "display_name": "Python 3"
    },
    "language_info": {
      "name": "python"
    }
  },
  "cells": [
    {
      "cell_type": "markdown",
      "metadata": {
        "id": "view-in-github",
        "colab_type": "text"
      },
      "source": [
        "<a href=\"https://colab.research.google.com/github/Radwan1244/Dog-breeding-classifier-/blob/main/Image_classification.ipynb\" target=\"_parent\"><img src=\"https://colab.research.google.com/assets/colab-badge.svg\" alt=\"Open In Colab\"/></a>"
      ]
    },
    {
      "cell_type": "code",
      "execution_count": null,
      "metadata": {
        "id": "JEDZoFyY_XaR"
      },
      "outputs": [],
      "source": [
        "\n",
        "import os\n",
        "from PIL import Image\n",
        "import numpy as np\n",
        "\n",
        "def classify_images(images_dir, pet_labels, model='vgg'):\n",
        "    \"\"\"\n",
        "    Classify images and compare with pet labels\n",
        "\n",
        "    Parameters:\n",
        "     images_dir - Directory containing pet images\n",
        "     pet_labels - Dictionary of pet labels\n",
        "     model - CNN model architecture (default: 'vgg')\n",
        "\n",
        "    Returns:\n",
        "     results_dic - Dictionary of classification results\n",
        "    \"\"\"\n",
        "    results_dic = pet_labels.copy()\n",
        "\n",
        "    # Placeholder for classifiers (in a real scenario, you'd import actual pre-trained models)\n",
        "    def mock_classifier(image_path, model_type):\n",
        "        \"\"\"\n",
        "        Mock classifier for demonstration\n",
        "        In a real scenario, this would use a pre-trained model like VGG or ResNet\n",
        "        \"\"\"\n",
        "        label_list = list(results_dic.keys())\n",
        "        idx = label_list.index(os.path.basename(image_path))\n",
        "        pet_label = results_dic[label_list[idx]][0]\n",
        "\n",
        "        # Simulate classification with some randomness\n",
        "        classifiers = {\n",
        "            'vgg': ['poodle', 'labrador', 'beagle', 'chihuahua', 'german shepherd'],\n",
        "            'resnet': ['retriever', 'terrier', 'bulldog', 'shepherd', 'spaniel']\n",
        "        }\n",
        "\n",
        "        # Randomly select a classifier result, but sometimes match the pet label\n",
        "        import random\n",
        "        if random.random() < 0.7:  # 70% chance of being close to the actual label\n",
        "            return pet_label\n",
        "        else:\n",
        "            return random.choice(classifiers.get(model, classifiers['vgg']))\n",
        "\n",
        "    # Classify each image\n",
        "    for key in results_dic:\n",
        "        # Construct full image path\n",
        "        image_path = os.path.join(images_dir, key)\n",
        "\n",
        "        # Classify image and store results\n",
        "        classifier_label = mock_classifier(image_path, model).lower().strip()\n",
        "        results_dic[key].append(classifier_label)\n",
        "\n",
        "        # Append match flag (1 if match, 0 if no match)\n",
        "        results_dic[key].append(1 if results_dic[key][0] == classifier_label else 0)\n",
        "\n",
        "    return results_dic"
      ]
    }
  ]
}