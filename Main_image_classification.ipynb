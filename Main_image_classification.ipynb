{
  "nbformat": 4,
  "nbformat_minor": 0,
  "metadata": {
    "colab": {
      "provenance": [],
      "authorship_tag": "ABX9TyPXTqNHotfckA1Qv/KbEAxa",
      "include_colab_link": true
    },
    "kernelspec": {
      "name": "python3",
      "display_name": "Python 3"
    },
    "language_info": {
      "name": "python"
    }
  },
  "cells": [
    {
      "cell_type": "markdown",
      "metadata": {
        "id": "view-in-github",
        "colab_type": "text"
      },
      "source": [
        "<a href=\"https://colab.research.google.com/github/Radwan1244/Dog-breeding-classifier-/blob/main/Main_image_classification.ipynb\" target=\"_parent\"><img src=\"https://colab.research.google.com/assets/colab-badge.svg\" alt=\"Open In Colab\"/></a>"
      ]
    },
    {
      "cell_type": "code",
      "execution_count": 2,
      "metadata": {
        "colab": {
          "base_uri": "https://localhost:8080/",
          "height": 399
        },
        "id": "1_oQeVVR7_1k",
        "outputId": "e62c77d9-1357-4e32-ea2a-6479fc2a1be6"
      },
      "outputs": [
        {
          "output_type": "error",
          "ename": "ModuleNotFoundError",
          "evalue": "No module named 'get_pet_labels'",
          "traceback": [
            "\u001b[0;31m---------------------------------------------------------------------------\u001b[0m",
            "\u001b[0;31mModuleNotFoundError\u001b[0m                       Traceback (most recent call last)",
            "\u001b[0;32m<ipython-input-2-14cfccdf9ffb>\u001b[0m in \u001b[0;36m<cell line: 5>\u001b[0;34m()\u001b[0m\n\u001b[1;32m      3\u001b[0m \u001b[0;32mimport\u001b[0m \u001b[0mos\u001b[0m\u001b[0;34m\u001b[0m\u001b[0;34m\u001b[0m\u001b[0m\n\u001b[1;32m      4\u001b[0m \u001b[0;32mimport\u001b[0m \u001b[0mnumpy\u001b[0m \u001b[0;32mas\u001b[0m \u001b[0mnp\u001b[0m\u001b[0;34m\u001b[0m\u001b[0;34m\u001b[0m\u001b[0m\n\u001b[0;32m----> 5\u001b[0;31m \u001b[0;32mfrom\u001b[0m \u001b[0mget_pet_labels\u001b[0m \u001b[0;32mimport\u001b[0m \u001b[0mget_pet_labels\u001b[0m\u001b[0;34m\u001b[0m\u001b[0;34m\u001b[0m\u001b[0m\n\u001b[0m\u001b[1;32m      6\u001b[0m \u001b[0;32mfrom\u001b[0m \u001b[0mclassify_images\u001b[0m \u001b[0;32mimport\u001b[0m \u001b[0mclassify_images\u001b[0m\u001b[0;34m\u001b[0m\u001b[0;34m\u001b[0m\u001b[0m\n\u001b[1;32m      7\u001b[0m \u001b[0;32mfrom\u001b[0m \u001b[0mclassify_dogs\u001b[0m \u001b[0;32mimport\u001b[0m \u001b[0mclassify_dogs_human_labels\u001b[0m\u001b[0;34m\u001b[0m\u001b[0;34m\u001b[0m\u001b[0m\n",
            "\u001b[0;31mModuleNotFoundError\u001b[0m: No module named 'get_pet_labels'",
            "",
            "\u001b[0;31m---------------------------------------------------------------------------\u001b[0;32m\nNOTE: If your import is failing due to a missing package, you can\nmanually install dependencies using either !pip or !apt.\n\nTo view examples of installing some common dependencies, click the\n\"Open Examples\" button below.\n\u001b[0;31m---------------------------------------------------------------------------\u001b[0m\n"
          ],
          "errorDetails": {
            "actions": [
              {
                "action": "open_url",
                "actionText": "Open Examples",
                "url": "/notebooks/snippets/importing_libraries.ipynb"
              }
            ]
          }
        }
      ],
      "source": [
        "import time\n",
        "import argparse\n",
        "import os\n",
        "import numpy as np\n",
        "from get_pet_labels import get_pet_labels\n",
        "from classify_images import classify_images\n",
        "from classify_dogs import classify_dogs_human_labels\n",
        "from results import print_results\n",
        "\n",
        "def parse_arguments():\n",
        "    \"\"\"\n",
        "    Parse command line arguments\n",
        "    \"\"\"\n",
        "    parser = argparse.ArgumentParser(description='Dog Breed Image Classifier')\n",
        "\n",
        "    parser.add_argument('--dir',\n",
        "                        type=str,\n",
        "                        default='pet_images/',\n",
        "                        help='path to the pet images folder')\n",
        "\n",
        "    parser.add_argument('--arch',\n",
        "                        type=str,\n",
        "                        default='vgg',\n",
        "                        help='CNN model architecture to use')\n",
        "\n",
        "    parser.add_argument('--dogfile',\n",
        "                        type=str,\n",
        "                        default='dognames.txt',\n",
        "                        help='file containing dog names')\n",
        "\n",
        "    return parser.parse_args()\n",
        "\n",
        "def main():\n",
        "    # Start timing the code\n",
        "    start_time = time.time()\n",
        "\n",
        "    # Parse command line arguments\n",
        "    in_arg = parse_arguments()\n",
        "\n",
        "    # Get pet image labels\n",
        "    pet_labels = get_pet_labels(in_arg.dir)\n",
        "\n",
        "    # Classify images using specified architecture\n",
        "    classified_images = classify_images(in_arg.dir, pet_labels, in_arg.arch)\n",
        "\n",
        "    # Check if images are dogs according to labels\n",
        "    dog_labels_results = classify_dogs_human_labels(classified_images)\n",
        "\n",
        "    # Print overall results\n",
        "    print_results(dog_labels_results)\n",
        "\n",
        "    # End timing and calculate total runtime\n",
        "    end_time = time.time()\n",
        "    tot_time = end_time - start_time\n",
        "\n",
        "    # Print runtime information\n",
        "    print(f\"\\n** Total Runtime: {tot_time:.2f} seconds **\")\n",
        "\n",
        "# Call to main function to run the program\n",
        "if __name__ == \"__main__\":\n",
        "    main()"
      ]
    }
  ]
}