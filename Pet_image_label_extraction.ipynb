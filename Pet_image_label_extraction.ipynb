{
  "nbformat": 4,
  "nbformat_minor": 0,
  "metadata": {
    "colab": {
      "provenance": [],
      "authorship_tag": "ABX9TyPXf/hU2ouX7V5tr/KikPNt",
      "include_colab_link": true
    },
    "kernelspec": {
      "name": "python3",
      "display_name": "Python 3"
    },
    "language_info": {
      "name": "python"
    }
  },
  "cells": [
    {
      "cell_type": "markdown",
      "metadata": {
        "id": "view-in-github",
        "colab_type": "text"
      },
      "source": [
        "<a href=\"https://colab.research.google.com/github/Radwan1244/Dog-breeding-classifier-/blob/main/Pet_image_label_extraction.ipynb\" target=\"_parent\"><img src=\"https://colab.research.google.com/assets/colab-badge.svg\" alt=\"Open In Colab\"/></a>"
      ]
    },
    {
      "cell_type": "code",
      "execution_count": 1,
      "metadata": {
        "id": "KS8DMhjh-vb_"
      },
      "outputs": [],
      "source": [
        "import os\n",
        "\n",
        "def get_pet_labels(images_dir):\n",
        "    \"\"\"\n",
        "    Creates a dictionary of pet labels based on filenames\n",
        "\n",
        "    Parameters:\n",
        "     images_dir - The directory containing pet images\n",
        "    Returns:\n",
        "     pet_labels - Dictionary with 'filename' as key and pet label as value\n",
        "    \"\"\"\n",
        "    # Initialize an empty dictionary\n",
        "    pet_labels = {}\n",
        "\n",
        "    # Iterate through all files in the directory\n",
        "    for filename in os.listdir(images_dir):\n",
        "        # Skip files that start with . (hidden files)\n",
        "        if filename.startswith('.'):\n",
        "            continue\n",
        "\n",
        "        # Extract label from filename\n",
        "        # Remove file extension and replace underscores with spaces\n",
        "        pet_label = filename.lower().split('_')[0].replace('.jpg', '').replace('.jpeg', '').replace('.png', '')\n",
        "\n",
        "        # Store in dictionary\n",
        "        pet_labels[filename] = [pet_label]\n",
        "\n",
        "    return pet_labels"
      ]
    }
  ]
}